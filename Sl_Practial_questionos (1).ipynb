{
  "cells": [
    {
      "cell_type": "markdown",
      "metadata": {
        "id": "Z2Cs7OvlYQ7W"
      },
      "source": [
        "**Q1) Write a python program to encrypt a plain text using ceaser cipher**"
      ]
    },
    {
      "cell_type": "code",
      "execution_count": null,
      "metadata": {
        "colab": {
          "base_uri": "https://localhost:8080/"
        },
        "id": "mUKevZRVWvei",
        "outputId": "3e1a7781-b125-4e46-938f-727ec5c5ea49"
      },
      "outputs": [
        {
          "name": "stdout",
          "output_type": "stream",
          "text": [
            "Cipher Text is:  Khoor ExqqB\n"
          ]
        }
      ],
      "source": [
        "#* For Encryption - using ceaser cipher\n",
        "\n",
        "import string\n",
        "all_letters= string.ascii_letters               #A list containing all characters\n",
        "\n",
        "dict1 = {}\n",
        "key = 3\n",
        "for i in range(len(all_letters)):\n",
        "\tdict1[all_letters[i]] = all_letters[(i+key)%len(all_letters)]\n",
        "plain_txt= \"Hello Bunny\"\n",
        "cipher_txt=[]\n",
        "\n",
        "# loop to generate ciphertext\n",
        "for char in plain_txt:\n",
        "\tif char in all_letters:\n",
        "\t\ttemp = dict1[char]\n",
        "\t\tcipher_txt.append(temp)\n",
        "\telse:\n",
        "\t\ttemp =char\n",
        "\t\tcipher_txt.append(temp)\n",
        "\t\t\n",
        "cipher_txt= \"\".join(cipher_txt)\n",
        "print(\"Cipher Text is: \",cipher_txt)\n"
      ]
    },
    {
      "cell_type": "markdown",
      "metadata": {
        "id": "xHh7-qd8YsCq"
      },
      "source": [
        "**Q2) Write a program to encrypt the given text using Railfence technique**"
      ]
    },
    {
      "cell_type": "code",
      "execution_count": null,
      "metadata": {
        "colab": {
          "base_uri": "https://localhost:8080/"
        },
        "id": "FTI60eI6YuzV",
        "outputId": "e8a871f1-c71f-4213-9fda-534f87e31a2b"
      },
      "outputs": [
        {
          "name": "stdout",
          "output_type": "stream",
          "text": [
            "xei eti sbs ese \n"
          ]
        }
      ],
      "source": [
        "# Railfence cipher\n",
        "\n",
        "cipher_text=\"\"\n",
        "def railfence(plain_text,key):\n",
        "    if key==3:\n",
        "        return (plain_text[::2]+plain_text[1::2]+plain_text[2::3])\n",
        "    else: \n",
        "        return \"number of rails not supported\"\n",
        "cipher_text= railfence(\"xie is best \", 3)\n",
        "print(cipher_text)\n"
      ]
    },
    {
      "cell_type": "markdown",
      "metadata": {
        "id": "0y6z_FOKYvNx"
      },
      "source": [
        "**Q3) Write a program to decrypt the text “aLH” using ceaser cipher**"
      ]
    },
    {
      "cell_type": "code",
      "execution_count": null,
      "metadata": {
        "colab": {
          "base_uri": "https://localhost:8080/"
        },
        "id": "o-9cyy22YyeL",
        "outputId": "b46b2a24-13b6-4edc-db55-a36cc8e8ab75"
      },
      "outputs": [
        {
          "name": "stdout",
          "output_type": "stream",
          "text": [
            "Cipher Text is:  XIE\n"
          ]
        }
      ],
      "source": [
        "# For Decryption - using Ceaser cipher\n",
        "\n",
        "import string\n",
        "all_letters= string.ascii_letters               #A list containing all characters\n",
        "\n",
        "dict1 = {}\n",
        "key = 3\n",
        "for i in range(len(all_letters)):\n",
        "\tdict1[all_letters[i]] = all_letters[(i-key)%len(all_letters)]\n",
        "plain_txt= \"aLH\"\n",
        "cipher_txt=[]\n",
        "\n",
        "# loop to generate cipher text\n",
        "for char in plain_txt:\n",
        "\tif char in all_letters:\n",
        "\t\ttemp = dict1[char]\n",
        "\t\tcipher_txt.append(temp)\n",
        "\telse:\n",
        "\t\ttemp =char\n",
        "\t\tcipher_txt.append(temp)\n",
        "\t\t\n",
        "cipher_txt= \"\".join(cipher_txt)\n",
        "print(\"Cipher Text is: \",cipher_txt)\n"
      ]
    },
    {
      "cell_type": "markdown",
      "metadata": {
        "id": "9bCBmlJGYy4B"
      },
      "source": [
        "***Q4) Perform brute force attack on “aLH LV EHVW” ***"
      ]
    },
    {
      "cell_type": "code",
      "execution_count": null,
      "metadata": {
        "colab": {
          "base_uri": "https://localhost:8080/"
        },
        "id": "dMDRDHZ9Y266",
        "outputId": "3d2e9e96-9135-4dbe-dcf4-6b5fec657349"
      },
      "outputs": [
        {
          "name": "stdout",
          "output_type": "stream",
          "text": [
            "Cipher Text is:  bMI MW FIWX\n",
            "Cipher Text is:  cNJ NX GJXY\n",
            "Cipher Text is:  dOK OY HKYZ\n",
            "Cipher Text is:  ePL PZ ILZa\n",
            "Cipher Text is:  fQM Qa JMab\n",
            "Cipher Text is:  gRN Rb KNbc\n",
            "Cipher Text is:  hSO Sc LOcd\n",
            "Cipher Text is:  iTP Td MPde\n",
            "Cipher Text is:  jUQ Ue NQef\n",
            "Cipher Text is:  kVR Vf ORfg\n",
            "Cipher Text is:  lWS Wg PSgh\n",
            "Cipher Text is:  mXT Xh QThi\n",
            "Cipher Text is:  nYU Yi RUij\n",
            "Cipher Text is:  oZV Zj SVjk\n",
            "Cipher Text is:  paW ak TWkl\n",
            "Cipher Text is:  qbX bl UXlm\n",
            "Cipher Text is:  rcY cm VYmn\n",
            "Cipher Text is:  sdZ dn WZno\n",
            "Cipher Text is:  tea eo Xaop\n",
            "Cipher Text is:  ufb fp Ybpq\n",
            "Cipher Text is:  vgc gq Zcqr\n",
            "Cipher Text is:  whd hr adrs\n",
            "Cipher Text is:  xie is best\n",
            "Cipher Text is:  yjf jt cftu\n",
            "Cipher Text is:  zkg ku dguv\n",
            "Cipher Text is:  Alh lv ehvw\n"
          ]
        }
      ],
      "source": [
        "# For Decryption - Brute force attack\n",
        "\n",
        "import string\n",
        "all_letters= string.ascii_letters \n",
        "\n",
        "dict1 = {}\n",
        "for key in range(1,27):\n",
        "  z=key\n",
        "  for i in range(len(all_letters)):\n",
        "    dict1[all_letters[i]] = all_letters[(i+z)%len(all_letters)]\n",
        "  plain_txt= \"aLH LV EHVW\"\n",
        "  cipher_txt=[]\n",
        "  \n",
        "  # loop to generate ciphertext\n",
        "  for char in plain_txt:\n",
        "    if char in all_letters:\n",
        "      temp = dict1[char]\n",
        "      cipher_txt.append(temp)\n",
        "    else:\n",
        "      temp =char\n",
        "      cipher_txt.append(temp)\n",
        "      \n",
        "  cipher_txt= \"\".join(cipher_txt)\n",
        "  print(\"Cipher Text is: \",cipher_txt)\n"
      ]
    },
    {
      "cell_type": "markdown",
      "metadata": {
        "id": "FY-oPBbDY3uI"
      },
      "source": [
        "**Q5) Perform product cipher on the encrypted message “aLH LV EHVW” using railfence technique**"
      ]
    },
    {
      "cell_type": "code",
      "source": [
        "import string\n",
        "all_letters= string.ascii_letters              \n",
        "\n",
        "dict1 = {}\n",
        "key = 3\n",
        "for i in range(len(all_letters)):\n",
        "\tdict1[all_letters[i]] = all_letters[(i-key)%len(all_letters)]\n",
        "plain_txt= \"aLH LV EHVW\"\n",
        "cipher_txt=[]\n",
        "\n",
        "for char in plain_txt:\n",
        "\tif char in all_letters:\n",
        "\t\ttemp = dict1[char]\n",
        "\t\tcipher_txt.append(temp)\n",
        "\telse:\n",
        "\t\ttemp =char\n",
        "\t\tcipher_txt.append(temp)\n",
        "\t\t\n",
        "cipher_txt= \"\".join(cipher_txt)\n",
        "print(\"Cipher Text is: \",cipher_txt)\n",
        "\n",
        "def railfence(plain_text,key):\n",
        "    if key==3:\n",
        "        return (plain_text[::2]+plain_text[1::2]+plain_text[2::3])\n",
        "    else: \n",
        "        return \"number of rails not supported\"\n",
        "cipher_text= railfence(cipher_txt, 3)\n",
        "print(\"Product cipher text is: \",cipher_text)"
      ],
      "metadata": {
        "colab": {
          "base_uri": "https://localhost:8080/"
        },
        "id": "3o6o_Wd9qPFf",
        "outputId": "d6729b35-a1c5-4db8-90dd-e1e33064e0c4"
      },
      "execution_count": 12,
      "outputs": [
        {
          "output_type": "stream",
          "name": "stdout",
          "text": [
            "Cipher Text is:  XIE IS BEST\n",
            "XEI ETI SBSESE\n"
          ]
        }
      ]
    },
    {
      "cell_type": "markdown",
      "metadata": {
        "id": "f3jpnNh9ZNul"
      },
      "source": [
        "**Q6) Perform encryption and decrption of a Plain text message using Open SSL Commands**"
      ]
    },
    {
      "cell_type": "markdown",
      "source": [
        "# For CBC Mode\n",
        " ```\n",
        "openssl enc -aes-256-cbc -e -base64 -in Bunny.txt -out Bhanu.txt\n",
        "```\n",
        "==> For Encryption\n",
        "\n",
        " ```\n",
        "openssl enc -aes-256-cbc -d -base64 -in Bhanu.txt -out Sunka.txt\n",
        "```\n",
        "==> For Decryption\n",
        "\n",
        "\n",
        "#For ECB Mode\n",
        " ```\n",
        "openssl enc -aes-256-ecb -e -base64 -in Farhan.txt -out Atangwadi.png \n",
        "```\n",
        "==> For Encryption\n",
        "\n",
        " ```\n",
        "openssl enc -aes-256-ecb -d -base64 -in Atangwadi.txt -out FarhanChor.png  \n",
        "```\n",
        "==> For Decryption"
      ],
      "metadata": {
        "id": "BnL2TQmYYkOF"
      }
    },
    {
      "cell_type": "markdown",
      "source": [
        "**Q7) Perform RSA encryption and decryption**"
      ],
      "metadata": {
        "id": "3lGhjBjzamzt"
      }
    },
    {
      "cell_type": "markdown",
      "source": [
        "1) First create two users (i.e Two folders) \n",
        "\n",
        "2) Then generate private key for both users \n",
        "```\n",
        "openssl genrsa -out privateu1.pem 2048\n",
        "```\n",
        "\n",
        "3) Then with the help of private key generate public key for both users ofc\n",
        "```\n",
        "openssl rsa -in privateu1.pem -pubout -out publicu1.pem \n",
        "\n",
        "```\n",
        "\n",
        "4) Then create a new file which we want to share with another user \n",
        "\n",
        "5) Then simply copy user2 public key in user1 directory and vice-versa\n",
        "\n",
        "6) Now we have to encrypt the file \n",
        "```\n",
        "openssl rsautl -encrypt -in newfile.txt -out outputfile.txt -inkey publicu2.pem -pubin\n",
        "```\n",
        "* If rsautl doesn't work then simply use pkeyutl\n",
        "\n",
        "\n",
        "7) Share the output.txt file to user2\n",
        "\n",
        "8) Then, user2 have to decrypt outputfile.txt using his own private key (i.e privateu1.pem)\n",
        "```\n",
        "openssl rsautl -decrypt -in outputfile.txt -out latest.txt -inkey privateu2.pem \n",
        "```\n",
        "\n",
        " "
      ],
      "metadata": {
        "id": "vm6mEBdhasOS"
      }
    },
    {
      "cell_type": "markdown",
      "source": [
        "**Q11) Analyze the open ports available in the network and make a report**\n",
        "\n",
        "1) Open zenmap in windows machine\n",
        "\n",
        "2) Then enter ip address of another ubuntu machine in TARGET field, and in profile make sure intense scan is used.\n",
        "\n",
        "3) Now all the services will be listed in the services field in left sidebar\n",
        "\n",
        "4) There you can find all the required protocols, from there check the ftp and count the ftp ports \n",
        "\n",
        "5) At the end analyse the topology network and make report\n",
        "\n",
        "If you don't get the ftp ports, then in target add -255 at the end of ip address \n",
        "Fir bhi nahi ho raha toh, BEST OF LUCK"
      ],
      "metadata": {
        "id": "S6ucQiIs-6Oz"
      }
    }
  ],
  "metadata": {
    "colab": {
      "collapsed_sections": [],
      "provenance": []
    },
    "kernelspec": {
      "display_name": "Python 3",
      "name": "python3"
    },
    "language_info": {
      "name": "python"
    }
  },
  "nbformat": 4,
  "nbformat_minor": 0
}