{
 "cells": [
  {
   "cell_type": "code",
   "execution_count": null,
   "metadata": {},
   "outputs": [],
   "source": [
    "# Vigenere Cipher\n",
    "\n",
    "## This function generates the key in a cyclic manner until it's length isn't #equal to the length of original text\n",
    "def generateKey(string, key):\n",
    "\tkey = list(key)\n",
    "\tif len(string) == len(key):\n",
    "\t\treturn(key)\n",
    "\telse:\n",
    "\t\tfor i in range(len(string) -\n",
    "\t\t\t\t\tlen(key)):\n",
    "\t\t\tkey.append(key[i % len(key)])\n",
    "\treturn(\"\" . join(key))\n",
    "\t\n",
    "\n",
    "# This function returns the encrypted text generated with the help of the #key\n",
    "def cipherText(string, key):\n",
    "\tcipher_text = []\n",
    "\tfor i in range(len(string)):\n",
    "\t\tx = (ord(string[i]) +\n",
    "\t\t\tord(key[i])) % 26\n",
    "\t\tx += ord('A')\n",
    "\t\tcipher_text.append(chr(x))\n",
    "\treturn(\"\" . join(cipher_text))\n",
    "\t\n",
    "# This function decrypts the encrypted text and returns  the original text\n",
    "def originalText(cipher_text, key):\n",
    "\torig_text = []\n",
    "\tfor i in range(len(cipher_text)):\n",
    "\t\tx = (ord(cipher_text[i]) -\n",
    "\t\t\tord(key[i]) + 26) % 26\n",
    "\t\tx += ord('A')\n",
    "\t\torig_text.append(chr(x))\n",
    "\treturn(\"\" . join(orig_text))\n",
    "\t\n",
    "# Driver code\n",
    "if __name__ == \"__main__\":\n",
    "\tstring = \"ATTACK MUMBAI TONIGHT\"\n",
    "\tkeyword = \"kishan\"\n",
    "\tkey = generateKey(string, keyword)\n",
    "\tcipher_text = cipherText(string,key)\n",
    "\tprint(\"Ciphertext :\", cipher_text)\n",
    "\tprint(\"Original/Decrypted Text :\",\n",
    "\t\toriginalText(cipher_text, key))\n"
   ]
  },
  {
   "cell_type": "code",
   "execution_count": 2,
   "metadata": {},
   "outputs": [
    {
     "name": "stdout",
     "output_type": "stream",
     "text": [
      "Cipher Text is:  TKUQLGMDVcKWbKUEWEZYU\n"
     ]
    }
   ],
   "source": [
    "# For Encryption - using ceaser cipher\n",
    "\n",
    "import string\n",
    "all_letters= string.ascii_letters               #A list containing all characters\n",
    "\n",
    "dict1 = {}\n",
    "key = 3\n",
    "for i in range(len(all_letters)):\n",
    "\tdict1[all_letters[i]] = all_letters[(i+key)%len(all_letters)]\n",
    "plain_txt= \"QHRNIDJASZHTYHRBTBWVR\"\n",
    "cipher_txt=[]\n",
    "\n",
    "# loop to generate ciphertext\n",
    "for char in plain_txt:\n",
    "\tif char in all_letters:\n",
    "\t\ttemp = dict1[char]\n",
    "\t\tcipher_txt.append(temp)\n",
    "\telse:\n",
    "\t\ttemp =char\n",
    "\t\tcipher_txt.append(temp)\n",
    "\t\t\n",
    "cipher_txt= \"\".join(cipher_txt)\n",
    "print(\"Cipher Text is: \",cipher_txt)\n"
   ]
  },
  {
   "cell_type": "code",
   "execution_count": 4,
   "metadata": {},
   "outputs": [
    {
     "name": "stdout",
     "output_type": "stream",
     "text": [
      "xei eti sbs ese \n",
      "xei et\n",
      "i sbs ese \n",
      "xie is best \n"
     ]
    }
   ],
   "source": [
    "# Railfence cipher\n",
    "\n",
    "cipher_text=\"\"\n",
    "def railfence(plain_text,key):\n",
    "    if key==3:\n",
    "        return (plain_text[::2]+plain_text[1::2]+plain_text[2::3])\n",
    "    else: \n",
    "        return \"number of rails not supported\"\n",
    "cipher_text= railfence(\"xie is best \", 3)\n",
    "print(cipher_text)\n",
    "\n",
    "\n",
    "#Decryption:\n",
    "block1=cipher_text[:6:]\n",
    "print(block1)\n",
    "block2=cipher_text[6::]\n",
    "print(block2)\n",
    "x1=print(block1[0]+block2[0]+block1[1]+block2[1]+block1[2]+block2[2]+block1[3]+block2[3]+\n",
    "         block1[4]+block2[4]+block1[5]+block2[5])\n"
   ]
  },
  {
   "cell_type": "code",
   "execution_count": 1,
   "metadata": {},
   "outputs": [
    {
     "name": "stdout",
     "output_type": "stream",
     "text": [
      "Ciphertext : JCQJSJQMF\n",
      "Original/Decrypted Text : XIEISBEST\n",
      "Product text : VWCKSRCGR\n",
      "Decrypted Product Text : XIEISBEST\n"
     ]
    }
   ],
   "source": [
    "## This function generates the key in a cyclic manner until it's length isn't #equal to the length of original text\n",
    "def generateKey(string, key):\n",
    "\tkey = list(key)\n",
    "\tif len(string) == len(key):\n",
    "\t\treturn(key)\n",
    "\telse:\n",
    "\t\tfor i in range(len(string) -\n",
    "\t\t\t\t\tlen(key)):\n",
    "\t\t\tkey.append(key[i % len(key)])\n",
    "\treturn(\"\" . join(key))\n",
    "\n",
    "# This function returns the encrypted text generated with the help of the #key\n",
    "def cipherText(string, key):\n",
    "\tcipher_text = []\n",
    "\tfor i in range(len(string)):\n",
    "\t\tx = (ord(string[i]) +\n",
    "\t\t\tord(key[i])) % 26\n",
    "\t\tx += ord('A')\n",
    "\t\tcipher_text.append(chr(x))\n",
    "\treturn(\"\" . join(cipher_text))\n",
    "\t\n",
    "# This function decrypts the encrypted text and returns  the original text\n",
    "def originalText(cipher_text, key):\n",
    "\torig_text = []\n",
    "\tfor i in range(len(cipher_text)):\n",
    "\t\tx = (ord(cipher_text[i]) -\n",
    "\t\t\tord(key[i]) + 26) % 26\n",
    "\t\tx += ord('A')\n",
    "\t\torig_text.append(chr(x))\n",
    "\treturn(\"\" . join(orig_text))\n",
    "\t\n",
    "# Driver code\n",
    "if __name__ == \"__main__\":\n",
    "  string = \"XIEISBEST\"\n",
    "  keyword = \"MUMBAI\"\n",
    "  key = generateKey(string, keyword)\n",
    "  cipher_text = cipherText(string,key)\n",
    "  print(\"Ciphertext :\", cipher_text)\n",
    "  print(\"Original/Decrypted Text :\", originalText(cipher_text, key))\n",
    "  # Encyption of Product Cipher Using Vigenere Cipher\n",
    "  product_text = cipherText(cipher_text,key)\n",
    "  print(\"Product text :\", product_text)\n",
    "\t# Decryption of Product Cipher Using Vigenere Cipher\n",
    "  original_cipher = originalText(product_text, key)\n",
    "  print(\"Decrypted Product Text :\", originalText(original_cipher, key))\n",
    "  "
   ]
  }
 ],
 "metadata": {
  "kernelspec": {
   "display_name": "Python 3.8.10 64-bit",
   "language": "python",
   "name": "python3"
  },
  "language_info": {
   "codemirror_mode": {
    "name": "ipython",
    "version": 3
   },
   "file_extension": ".py",
   "mimetype": "text/x-python",
   "name": "python",
   "nbconvert_exporter": "python",
   "pygments_lexer": "ipython3",
   "version": "3.10.6"
  },
  "orig_nbformat": 4,
  "vscode": {
   "interpreter": {
    "hash": "e7370f93d1d0cde622a1f8e1c04877d8463912d04d973331ad4851f04de6915a"
   }
  }
 },
 "nbformat": 4,
 "nbformat_minor": 2
}
